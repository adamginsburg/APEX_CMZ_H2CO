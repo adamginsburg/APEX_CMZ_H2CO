{
 "metadata": {
  "name": "",
  "signature": "sha256:595ea52170c122297d0653621534d126eab04f1d57a2a527d6a732332f33ef63"
 },
 "nbformat": 3,
 "nbformat_minor": 0,
 "worksheets": [
  {
   "cells": [
    {
     "cell_type": "code",
     "collapsed": false,
     "input": [
      "# imports\n",
      "import make_apex_cubes\n",
      "import time # for performance analysis\n",
      "from astropy import units as u\n",
      "import FITS_tools\n",
      "import image_tools\n",
      "import numpy as np\n",
      "# for bigger figures\n",
      "import pylab as pl\n",
      "pl.rcParams['figure.figsize'] = (12.0, 10.0)"
     ],
     "language": "python",
     "metadata": {},
     "outputs": []
    },
    {
     "cell_type": "code",
     "collapsed": false,
     "input": [
      "make_apex_cubes.do_everything()"
     ],
     "language": "python",
     "metadata": {},
     "outputs": []
    }
   ],
   "metadata": {}
  }
 ]
}