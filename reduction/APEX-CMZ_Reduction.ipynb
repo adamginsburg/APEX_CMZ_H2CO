{
 "metadata": {
  "name": "",
  "signature": "sha256:54342a5b092f9f0db2f37c37a6ba352a6c8cd93de89e1c60fd59a73dd458d0b4"
 },
 "nbformat": 3,
 "nbformat_minor": 0,
 "worksheets": [
  {
   "cells": [
    {
     "cell_type": "code",
     "collapsed": false,
     "input": [
      "# imports\n",
      "import make_apex_cubes\n",
      "import time # for performance analysis\n",
      "from astropy import units as u\n",
      "import FITS_tools\n",
      "import image_tools\n",
      "import numpy as np\n",
      "# for bigger figures\n",
      "import pylab as pl\n",
      "pl.rcParams['figure.figsize'] = (12.0, 10.0)"
     ],
     "language": "python",
     "metadata": {},
     "outputs": [
      {
       "output_type": "stream",
       "stream": "stderr",
       "text": [
        "Could not determine version of package aplpy Cannot install default profile. If you are importing from source, this is expected.\n"
       ]
      }
     ]
    },
    {
     "cell_type": "code",
     "collapsed": false,
     "input": [
      "make_apex_cubes.do_everything()"
     ],
     "language": "python",
     "metadata": {},
     "outputs": [
      {
       "output_type": "stream",
       "stream": "stderr",
       "text": [
        "INFO:astropy:Blank image size: 1150,200,1374.  Blankcube shape: (1374, 200, 1150)\n"
       ]
      }
     ]
    },
    {
     "cell_type": "code",
     "collapsed": false,
     "input": [],
     "language": "python",
     "metadata": {},
     "outputs": []
    }
   ],
   "metadata": {}
  }
 ]
}